{
 "cells": [
  {
   "cell_type": "code",
   "execution_count": null,
   "metadata": {},
   "outputs": [],
   "source": [
    "import pandas as pd\n",
    "from sklearn.model_selection import train_test_split\n",
    "from sklearn.feature_extraction.text import TfidfVectorizer\n",
    "from sklearn.linear_model import LogisticRegression\n",
    "from sklearn.metrics import classification_report, accuracy_score\n",
    "from sklearn.preprocessing import LabelEncoder\n",
    "\n",
    "# Load the dataset\n",
    "file_path = 'tweets_country_region.csv'  # Replace with your file path\n",
    "tweets_data = pd.read_csv(file_path)\n",
    "\n",
    "# Step 1: Preprocessing\n",
    "# Combine `keyword` and `text` into a single feature\n",
    "tweets_data['combined_text'] = tweets_data['keyword'].fillna('') + ' ' + tweets_data['text']\n",
    "\n",
    "# Encode categorical variables if necessary (e.g., `country` or `region`)\n",
    "encoder = LabelEncoder()\n",
    "tweets_data['country_encoded'] = encoder.fit_transform(tweets_data['country'].fillna('Unknown'))\n",
    "\n",
    "# Step 2: Feature Selection\n",
    "# Define features and target\n",
    "X_text = tweets_data['combined_text']\n",
    "X_country = tweets_data['country_encoded']\n",
    "y = tweets_data['target']\n",
    "\n",
    "# Vectorize the text data\n",
    "vectorizer = TfidfVectorizer(max_features=5000, stop_words='english')\n",
    "X_text_vectorized = vectorizer.fit_transform(X_text)\n",
    "\n",
    "# Combine text vectorization with other features (if needed)\n",
    "import scipy.sparse as sp\n",
    "X_combined = sp.hstack([X_text_vectorized, X_country.values.reshape(-1, 1)])\n",
    "\n",
    "# Step 3: Train/Test Split\n",
    "X_train, X_test, y_train, y_test = train_test_split(X_combined, y, test_size=0.2, random_state=42)\n",
    "\n",
    "# Step 4: Logistic Regression\n",
    "model = LogisticRegression(max_iter=500)\n",
    "model.fit(X_train, y_train)\n",
    "\n",
    "# Make predictions\n",
    "y_pred = model.predict(X_test)\n",
    "\n",
    "# Step 5: Evaluation\n",
    "print(\"Accuracy:\", accuracy_score(y_test, y_pred))\n",
    "print(\"\\nClassification Report:\\n\", classification_report(y_test, y_pred))"
   ]
  }
 ],
 "metadata": {
  "kernelspec": {
   "display_name": "Python 3",
   "language": "python",
   "name": "python3"
  },
  "language_info": {
   "codemirror_mode": {
    "name": "ipython",
    "version": 3
   },
   "file_extension": ".py",
   "mimetype": "text/x-python",
   "name": "python",
   "nbconvert_exporter": "python",
   "pygments_lexer": "ipython3",
   "version": "3.12.0"
  }
 },
 "nbformat": 4,
 "nbformat_minor": 2
}
