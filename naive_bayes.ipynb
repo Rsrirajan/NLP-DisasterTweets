{
 "cells": [
  {
   "cell_type": "code",
   "execution_count": null,
   "metadata": {},
   "outputs": [],
   "source": [
    "import pandas as pd\n",
    "from sklearn.model_selection import train_test_split\n",
    "from sklearn.feature_extraction.text import TfidfVectorizer\n",
    "from sklearn.naive_bayes import MultinomialNB\n",
    "from sklearn.metrics import classification_report\n",
    "\n",
    "tweets_df = pd.read_csv(\"tweets_country_region.csv\")\n",
    "\n",
    "tweets_df = tweets_df.dropna(subset=['region'])\n",
    "\n",
    "train_df, test_df = train_test_split(tweets_df, test_size=0.2, random_state=42)\n",
    "\n",
    "vectorizer = TfidfVectorizer(max_features=5000, stop_words='english')\n",
    "X_train = vectorizer.fit_transform(train_df['text'])\n",
    "X_test = vectorizer.transform(test_df['text'])\n",
    "\n",
    "nb_model = MultinomialNB()\n",
    "nb_model.fit(X_train, train_df['region'])\n",
    "\n",
    "test_df['predicted_region'] = nb_model.predict(X_test)\n",
    "\n",
    "print(\"Classification Report:\\n\", classification_report(test_df['region'], test_df['predicted_region']))\n",
    "\n",
    "print(test_df[['text', 'region', 'predicted_region']].head())\n",
    "print(f\"Test DataFrame dimensions: {test_df.shape}\")\n"
   ]
  }
 ],
 "metadata": {
  "kernelspec": {
   "display_name": "Python 3",
   "language": "python",
   "name": "python3"
  },
  "language_info": {
   "codemirror_mode": {
    "name": "ipython",
    "version": 3
   },
   "file_extension": ".py",
   "mimetype": "text/x-python",
   "name": "python",
   "nbconvert_exporter": "python",
   "pygments_lexer": "ipython3",
   "version": "3.12.0"
  }
 },
 "nbformat": 4,
 "nbformat_minor": 2
}
